{
  "nbformat": 4,
  "nbformat_minor": 0,
  "metadata": {
    "colab": {
      "name": "UGthesisMain.ipynb",
      "provenance": [],
      "collapsed_sections": []
    },
    "kernelspec": {
      "name": "python3",
      "display_name": "Python 3"
    },
    "language_info": {
      "name": "python"
    }
  },
  "cells": [
    {
      "cell_type": "markdown",
      "source": [
        "**Logistic Regression from Scratch**"
      ],
      "metadata": {
        "id": "DuRDk4D4g9xJ"
      }
    },
    {
      "cell_type": "code",
      "execution_count": null,
      "metadata": {
        "id": "_0hqZGecq8jG"
      },
      "outputs": [],
      "source": [
        "import pandas as pd\n",
        "import numpy as np\n",
        "import seaborn as sns\n",
        "import matplotlib.pyplot as plt\n"
      ]
    },
    {
      "cell_type": "code",
      "source": [
        "df = pd.read_csv('heart.csv')\n",
        "df.head()"
      ],
      "metadata": {
        "id": "GXQ_XsMArXMb",
        "colab": {
          "base_uri": "https://localhost:8080/",
          "height": 206
        },
        "outputId": "79808a8e-6681-4292-d2b4-18ede077ce2c"
      },
      "execution_count": null,
      "outputs": [
        {
          "output_type": "execute_result",
          "data": {
            "text/plain": [
              "   age  sex  cp  trestbps  chol  fbs  restecg  thalach  exang  oldpeak  slope  \\\n",
              "0   52    1   0       125   212    0        1      168      0      1.0      2   \n",
              "1   53    1   0       140   203    1        0      155      1      3.1      0   \n",
              "2   70    1   0       145   174    0        1      125      1      2.6      0   \n",
              "3   61    1   0       148   203    0        1      161      0      0.0      2   \n",
              "4   62    0   0       138   294    1        1      106      0      1.9      1   \n",
              "\n",
              "   ca  thal  target  \n",
              "0   2     3       0  \n",
              "1   0     3       0  \n",
              "2   0     3       0  \n",
              "3   1     3       0  \n",
              "4   3     2       0  "
            ],
            "text/html": [
              "\n",
              "  <div id=\"df-5524fb3b-0841-4160-8dd0-1b74e8ec3818\">\n",
              "    <div class=\"colab-df-container\">\n",
              "      <div>\n",
              "<style scoped>\n",
              "    .dataframe tbody tr th:only-of-type {\n",
              "        vertical-align: middle;\n",
              "    }\n",
              "\n",
              "    .dataframe tbody tr th {\n",
              "        vertical-align: top;\n",
              "    }\n",
              "\n",
              "    .dataframe thead th {\n",
              "        text-align: right;\n",
              "    }\n",
              "</style>\n",
              "<table border=\"1\" class=\"dataframe\">\n",
              "  <thead>\n",
              "    <tr style=\"text-align: right;\">\n",
              "      <th></th>\n",
              "      <th>age</th>\n",
              "      <th>sex</th>\n",
              "      <th>cp</th>\n",
              "      <th>trestbps</th>\n",
              "      <th>chol</th>\n",
              "      <th>fbs</th>\n",
              "      <th>restecg</th>\n",
              "      <th>thalach</th>\n",
              "      <th>exang</th>\n",
              "      <th>oldpeak</th>\n",
              "      <th>slope</th>\n",
              "      <th>ca</th>\n",
              "      <th>thal</th>\n",
              "      <th>target</th>\n",
              "    </tr>\n",
              "  </thead>\n",
              "  <tbody>\n",
              "    <tr>\n",
              "      <th>0</th>\n",
              "      <td>52</td>\n",
              "      <td>1</td>\n",
              "      <td>0</td>\n",
              "      <td>125</td>\n",
              "      <td>212</td>\n",
              "      <td>0</td>\n",
              "      <td>1</td>\n",
              "      <td>168</td>\n",
              "      <td>0</td>\n",
              "      <td>1.0</td>\n",
              "      <td>2</td>\n",
              "      <td>2</td>\n",
              "      <td>3</td>\n",
              "      <td>0</td>\n",
              "    </tr>\n",
              "    <tr>\n",
              "      <th>1</th>\n",
              "      <td>53</td>\n",
              "      <td>1</td>\n",
              "      <td>0</td>\n",
              "      <td>140</td>\n",
              "      <td>203</td>\n",
              "      <td>1</td>\n",
              "      <td>0</td>\n",
              "      <td>155</td>\n",
              "      <td>1</td>\n",
              "      <td>3.1</td>\n",
              "      <td>0</td>\n",
              "      <td>0</td>\n",
              "      <td>3</td>\n",
              "      <td>0</td>\n",
              "    </tr>\n",
              "    <tr>\n",
              "      <th>2</th>\n",
              "      <td>70</td>\n",
              "      <td>1</td>\n",
              "      <td>0</td>\n",
              "      <td>145</td>\n",
              "      <td>174</td>\n",
              "      <td>0</td>\n",
              "      <td>1</td>\n",
              "      <td>125</td>\n",
              "      <td>1</td>\n",
              "      <td>2.6</td>\n",
              "      <td>0</td>\n",
              "      <td>0</td>\n",
              "      <td>3</td>\n",
              "      <td>0</td>\n",
              "    </tr>\n",
              "    <tr>\n",
              "      <th>3</th>\n",
              "      <td>61</td>\n",
              "      <td>1</td>\n",
              "      <td>0</td>\n",
              "      <td>148</td>\n",
              "      <td>203</td>\n",
              "      <td>0</td>\n",
              "      <td>1</td>\n",
              "      <td>161</td>\n",
              "      <td>0</td>\n",
              "      <td>0.0</td>\n",
              "      <td>2</td>\n",
              "      <td>1</td>\n",
              "      <td>3</td>\n",
              "      <td>0</td>\n",
              "    </tr>\n",
              "    <tr>\n",
              "      <th>4</th>\n",
              "      <td>62</td>\n",
              "      <td>0</td>\n",
              "      <td>0</td>\n",
              "      <td>138</td>\n",
              "      <td>294</td>\n",
              "      <td>1</td>\n",
              "      <td>1</td>\n",
              "      <td>106</td>\n",
              "      <td>0</td>\n",
              "      <td>1.9</td>\n",
              "      <td>1</td>\n",
              "      <td>3</td>\n",
              "      <td>2</td>\n",
              "      <td>0</td>\n",
              "    </tr>\n",
              "  </tbody>\n",
              "</table>\n",
              "</div>\n",
              "      <button class=\"colab-df-convert\" onclick=\"convertToInteractive('df-5524fb3b-0841-4160-8dd0-1b74e8ec3818')\"\n",
              "              title=\"Convert this dataframe to an interactive table.\"\n",
              "              style=\"display:none;\">\n",
              "        \n",
              "  <svg xmlns=\"http://www.w3.org/2000/svg\" height=\"24px\"viewBox=\"0 0 24 24\"\n",
              "       width=\"24px\">\n",
              "    <path d=\"M0 0h24v24H0V0z\" fill=\"none\"/>\n",
              "    <path d=\"M18.56 5.44l.94 2.06.94-2.06 2.06-.94-2.06-.94-.94-2.06-.94 2.06-2.06.94zm-11 1L8.5 8.5l.94-2.06 2.06-.94-2.06-.94L8.5 2.5l-.94 2.06-2.06.94zm10 10l.94 2.06.94-2.06 2.06-.94-2.06-.94-.94-2.06-.94 2.06-2.06.94z\"/><path d=\"M17.41 7.96l-1.37-1.37c-.4-.4-.92-.59-1.43-.59-.52 0-1.04.2-1.43.59L10.3 9.45l-7.72 7.72c-.78.78-.78 2.05 0 2.83L4 21.41c.39.39.9.59 1.41.59.51 0 1.02-.2 1.41-.59l7.78-7.78 2.81-2.81c.8-.78.8-2.07 0-2.86zM5.41 20L4 18.59l7.72-7.72 1.47 1.35L5.41 20z\"/>\n",
              "  </svg>\n",
              "      </button>\n",
              "      \n",
              "  <style>\n",
              "    .colab-df-container {\n",
              "      display:flex;\n",
              "      flex-wrap:wrap;\n",
              "      gap: 12px;\n",
              "    }\n",
              "\n",
              "    .colab-df-convert {\n",
              "      background-color: #E8F0FE;\n",
              "      border: none;\n",
              "      border-radius: 50%;\n",
              "      cursor: pointer;\n",
              "      display: none;\n",
              "      fill: #1967D2;\n",
              "      height: 32px;\n",
              "      padding: 0 0 0 0;\n",
              "      width: 32px;\n",
              "    }\n",
              "\n",
              "    .colab-df-convert:hover {\n",
              "      background-color: #E2EBFA;\n",
              "      box-shadow: 0px 1px 2px rgba(60, 64, 67, 0.3), 0px 1px 3px 1px rgba(60, 64, 67, 0.15);\n",
              "      fill: #174EA6;\n",
              "    }\n",
              "\n",
              "    [theme=dark] .colab-df-convert {\n",
              "      background-color: #3B4455;\n",
              "      fill: #D2E3FC;\n",
              "    }\n",
              "\n",
              "    [theme=dark] .colab-df-convert:hover {\n",
              "      background-color: #434B5C;\n",
              "      box-shadow: 0px 1px 3px 1px rgba(0, 0, 0, 0.15);\n",
              "      filter: drop-shadow(0px 1px 2px rgba(0, 0, 0, 0.3));\n",
              "      fill: #FFFFFF;\n",
              "    }\n",
              "  </style>\n",
              "\n",
              "      <script>\n",
              "        const buttonEl =\n",
              "          document.querySelector('#df-5524fb3b-0841-4160-8dd0-1b74e8ec3818 button.colab-df-convert');\n",
              "        buttonEl.style.display =\n",
              "          google.colab.kernel.accessAllowed ? 'block' : 'none';\n",
              "\n",
              "        async function convertToInteractive(key) {\n",
              "          const element = document.querySelector('#df-5524fb3b-0841-4160-8dd0-1b74e8ec3818');\n",
              "          const dataTable =\n",
              "            await google.colab.kernel.invokeFunction('convertToInteractive',\n",
              "                                                     [key], {});\n",
              "          if (!dataTable) return;\n",
              "\n",
              "          const docLinkHtml = 'Like what you see? Visit the ' +\n",
              "            '<a target=\"_blank\" href=https://colab.research.google.com/notebooks/data_table.ipynb>data table notebook</a>'\n",
              "            + ' to learn more about interactive tables.';\n",
              "          element.innerHTML = '';\n",
              "          dataTable['output_type'] = 'display_data';\n",
              "          await google.colab.output.renderOutput(dataTable, element);\n",
              "          const docLink = document.createElement('div');\n",
              "          docLink.innerHTML = docLinkHtml;\n",
              "          element.appendChild(docLink);\n",
              "        }\n",
              "      </script>\n",
              "    </div>\n",
              "  </div>\n",
              "  "
            ]
          },
          "metadata": {},
          "execution_count": 4
        }
      ]
    },
    {
      "cell_type": "code",
      "source": [
        "df.isnull().sum()"
      ],
      "metadata": {
        "id": "26GyaLDgtTPD",
        "colab": {
          "base_uri": "https://localhost:8080/"
        },
        "outputId": "79c681f1-ff44-42cd-b706-5617ec06fefc"
      },
      "execution_count": null,
      "outputs": [
        {
          "output_type": "execute_result",
          "data": {
            "text/plain": [
              "age         0\n",
              "sex         0\n",
              "cp          0\n",
              "trestbps    0\n",
              "chol        0\n",
              "fbs         0\n",
              "restecg     0\n",
              "thalach     0\n",
              "exang       0\n",
              "oldpeak     0\n",
              "slope       0\n",
              "ca          0\n",
              "thal        0\n",
              "target      0\n",
              "dtype: int64"
            ]
          },
          "metadata": {},
          "execution_count": 5
        }
      ]
    },
    {
      "cell_type": "code",
      "source": [
        "#getting the data ready for modelling\n",
        "y = df.target\n",
        "X = df.drop('target', axis = 1)\n",
        "#X = pd.get_dummies(X)\n"
      ],
      "metadata": {
        "id": "KxF40OLjOhkh"
      },
      "execution_count": null,
      "outputs": []
    },
    {
      "cell_type": "code",
      "source": [
        "from sklearn.model_selection import train_test_split\n",
        "X_train, X_test, y_train, y_test = train_test_split(X, y, test_size = 0.25)\n",
        "\n",
        "from sklearn.linear_model import LogisticRegression\n",
        "from sklearn.metrics import accuracy_score\n",
        "\n",
        "lr = LogisticRegression()\n",
        "lr.fit(X_train, y_train)\n",
        "preds = lr.predict(X_test)\n",
        "score = accuracy_score(y_test, preds)\n",
        "print(score)\n"
      ],
      "metadata": {
        "id": "gjnG6v2Mpfya",
        "colab": {
          "base_uri": "https://localhost:8080/"
        },
        "outputId": "59b9f7d1-ee0f-465e-9ebf-cde6a04748ae"
      },
      "execution_count": null,
      "outputs": [
        {
          "output_type": "stream",
          "name": "stdout",
          "text": [
            "0.8365758754863813\n"
          ]
        },
        {
          "output_type": "stream",
          "name": "stderr",
          "text": [
            "/usr/local/lib/python3.7/dist-packages/sklearn/linear_model/_logistic.py:818: ConvergenceWarning: lbfgs failed to converge (status=1):\n",
            "STOP: TOTAL NO. of ITERATIONS REACHED LIMIT.\n",
            "\n",
            "Increase the number of iterations (max_iter) or scale the data as shown in:\n",
            "    https://scikit-learn.org/stable/modules/preprocessing.html\n",
            "Please also refer to the documentation for alternative solver options:\n",
            "    https://scikit-learn.org/stable/modules/linear_model.html#logistic-regression\n",
            "  extra_warning_msg=_LOGISTIC_SOLVER_CONVERGENCE_MSG,\n"
          ]
        }
      ]
    },
    {
      "cell_type": "code",
      "source": [
        "def sigmoid(z):\n",
        "    return 1.0/(1 + np.exp(-z))\n",
        "\n",
        "def loss(y, y_hat):\n",
        "    loss = -np.mean(y*(np.log(y_hat)) - (1-y)*np.log(1-y_hat))\n",
        "    return loss\n",
        "\n",
        "def normalize(X):\n",
        "    \n",
        "    # X --> Input.\n",
        "    \n",
        "    # m-> number of training examples\n",
        "    # n-> number of features \n",
        "    m, n = X.shape\n",
        "    \n",
        "    # Normalizing all the n features of X.\n",
        "    for i in range(n):\n",
        "        X = (X - X.mean(axis=0))/X.std(axis=0)\n",
        "        \n",
        "    return X\n",
        "\n",
        "def gradients(X, y, y_hat):\n",
        "    \n",
        "    # X --> Input.\n",
        "    # y --> true/target value.\n",
        "    # y_hat --> hypothesis/predictions.\n",
        "    # w --> weights (parameter).\n",
        "    # b --> bias (parameter).\n",
        "    \n",
        "    # m-> number of training examples.\n",
        "    m = X.shape[0]\n",
        "    \n",
        "    # Gradient of loss w.r.t weights.\n",
        "    dw = (1/m)*np.dot(X.T, (y_hat - y))\n",
        "    \n",
        "    # Gradient of loss w.r.t bias.\n",
        "    db = (1/m)*np.sum((y_hat - y)) \n",
        "    \n",
        "    return dw, db\n",
        "\n",
        "def train(X, y, bs, epochs, lr):\n",
        "    \n",
        "    # X --> Input.\n",
        "    # y --> true/target value.\n",
        "    # bs --> Batch Size.\n",
        "    # epochs --> Number of iterations.\n",
        "    # lr --> Learning rate.\n",
        "        \n",
        "    # m-> number of training examples\n",
        "    # n-> number of features \n",
        "    m, n = X.shape\n",
        "    \n",
        "    # Initializing weights and bias to zeros.\n",
        "    w = np.zeros((n,1))\n",
        "    b = 0\n",
        "    \n",
        "    # Reshaping y.\n",
        "    y = y.values.reshape(m,1)\n",
        "    \n",
        "    # Normalizing the inputs.\n",
        "    X = normalize(X)\n",
        "    \n",
        "    # Empty list to store losses.\n",
        "    losses = []\n",
        "    \n",
        "    # Training loop.\n",
        "    for epoch in range(epochs):\n",
        "        for i in range((m-1)//bs + 1):\n",
        "            \n",
        "            # Defining batches. SGD.\n",
        "            start_i = i*bs\n",
        "            end_i = start_i + bs\n",
        "            xb = X[start_i:end_i]\n",
        "            yb = y[start_i:end_i]\n",
        "            \n",
        "            # Calculating hypothesis/prediction.\n",
        "            y_hat = sigmoid(np.dot(xb, w) + b)\n",
        "            \n",
        "            # Getting the gradients of loss w.r.t parameters.\n",
        "            dw, db = gradients(xb, yb, y_hat)\n",
        "            \n",
        "            # Updating the parameters.\n",
        "            w -= lr*dw\n",
        "            b -= lr*db\n",
        "        \n",
        "        # Calculating loss and appending it in the list.\n",
        "        l = loss(y, sigmoid(np.dot(X, w) + b))\n",
        "        losses.append(l)\n",
        "        \n",
        "    # returning weights, bias and losses(List).\n",
        "    return w, b, losses\n",
        "\n",
        "def predict(X):\n",
        "    \n",
        "    # X --> Input.\n",
        "    \n",
        "    # Normalizing the inputs.\n",
        "    X = normalize(X)\n",
        "    \n",
        "    # Calculating presictions/y_hat.\n",
        "    preds = sigmoid(np.dot(X, w) + b)\n",
        "    \n",
        "    # Empty List to store predictions.\n",
        "    pred_class = []\n",
        "    # if y_hat >= 0.5 --> round up to 1\n",
        "    # if y_hat < 0.5 --> round up to 1\n",
        "    pred_class = [1 if i > 0.5 else 0 for i in preds]\n",
        "    \n",
        "    return np.array(pred_class)"
      ],
      "metadata": {
        "id": "45p8btxJRcwU"
      },
      "execution_count": null,
      "outputs": []
    },
    {
      "cell_type": "code",
      "source": [
        "w, b, l = train(X_train, y_train, bs=100, epochs=1000, lr=0.01)"
      ],
      "metadata": {
        "id": "2zogAl1e3278"
      },
      "execution_count": null,
      "outputs": []
    },
    {
      "cell_type": "code",
      "source": [
        "def accuracy(y, y_hat):\n",
        "    accuracy = np.sum(y == y_hat) / len(y)\n",
        "    return accuracy\n",
        "\n",
        "accuracy(y_test, predict(X_test))"
      ],
      "metadata": {
        "id": "M6XBzMBm2Q7A",
        "colab": {
          "base_uri": "https://localhost:8080/"
        },
        "outputId": "5554911e-f0b8-4ee9-b3a8-6ed415875a8c"
      },
      "execution_count": null,
      "outputs": [
        {
          "output_type": "execute_result",
          "data": {
            "text/plain": [
              "0.8521400778210116"
            ]
          },
          "metadata": {},
          "execution_count": 10
        }
      ]
    },
    {
      "cell_type": "code",
      "source": [
        "plt.plot(l,'-o')\n",
        "plt.xlabel('epoch')\n",
        "plt.ylabel('losses')\n",
        "plt.legend(['Train Loss'])\n",
        "plt.title('Training Loss')\n",
        "\n",
        "plt.show()\n"
      ],
      "metadata": {
        "id": "BNO12MbYff6h",
        "colab": {
          "base_uri": "https://localhost:8080/",
          "height": 295
        },
        "outputId": "f2664ab0-3ff6-413b-b4f3-17aeaa7cfdcb"
      },
      "execution_count": null,
      "outputs": [
        {
          "output_type": "display_data",
          "data": {
            "text/plain": [
              "<Figure size 432x288 with 1 Axes>"
            ],
            "image/png": "[encoded data removed]"
          },
          "metadata": {
            "needs_background": "light"
          }
        }
      ]
    },
    {
      "cell_type": "markdown",
      "source": [
        "**Logistic Regression using PCA**"
      ],
      "metadata": {
        "id": "OcIzTqL1_4I2"
      }
    },
    {
      "cell_type": "code",
      "source": [
        "#importing dataset\n",
        "df = pd.read_csv('heart.csv')\n",
        "df.head()"
      ],
      "metadata": {
        "colab": {
          "base_uri": "https://localhost:8080/",
          "height": 206
        },
        "id": "KuIo5KknAZ2z",
        "outputId": "611edaa6-3768-4812-bf09-fe715ee8f753"
      },
      "execution_count": null,
      "outputs": [
        {
          "output_type": "execute_result",
          "data": {
            "text/plain": [
              "   age  sex  cp  trestbps  chol  fbs  restecg  thalach  exang  oldpeak  slope  \\\n",
              "0   52    1   0       125   212    0        1      168      0      1.0      2   \n",
              "1   53    1   0       140   203    1        0      155      1      3.1      0   \n",
              "2   70    1   0       145   174    0        1      125      1      2.6      0   \n",
              "3   61    1   0       148   203    0        1      161      0      0.0      2   \n",
              "4   62    0   0       138   294    1        1      106      0      1.9      1   \n",
              "\n",
              "   ca  thal  target  \n",
              "0   2     3       0  \n",
              "1   0     3       0  \n",
              "2   0     3       0  \n",
              "3   1     3       0  \n",
              "4   3     2       0  "
            ],
            "text/html": [
              "\n",
              "  <div id=\"df-58dcf28d-33cf-4c1c-8bd5-f51519d80d57\">\n",
              "    <div class=\"colab-df-container\">\n",
              "      <div>\n",
              "<style scoped>\n",
              "    .dataframe tbody tr th:only-of-type {\n",
              "        vertical-align: middle;\n",
              "    }\n",
              "\n",
              "    .dataframe tbody tr th {\n",
              "        vertical-align: top;\n",
              "    }\n",
              "\n",
              "    .dataframe thead th {\n",
              "        text-align: right;\n",
              "    }\n",
              "</style>\n",
              "<table border=\"1\" class=\"dataframe\">\n",
              "  <thead>\n",
              "    <tr style=\"text-align: right;\">\n",
              "      <th></th>\n",
              "      <th>age</th>\n",
              "      <th>sex</th>\n",
              "      <th>cp</th>\n",
              "      <th>trestbps</th>\n",
              "      <th>chol</th>\n",
              "      <th>fbs</th>\n",
              "      <th>restecg</th>\n",
              "      <th>thalach</th>\n",
              "      <th>exang</th>\n",
              "      <th>oldpeak</th>\n",
              "      <th>slope</th>\n",
              "      <th>ca</th>\n",
              "      <th>thal</th>\n",
              "      <th>target</th>\n",
              "    </tr>\n",
              "  </thead>\n",
              "  <tbody>\n",
              "    <tr>\n",
              "      <th>0</th>\n",
              "      <td>52</td>\n",
              "      <td>1</td>\n",
              "      <td>0</td>\n",
              "      <td>125</td>\n",
              "      <td>212</td>\n",
              "      <td>0</td>\n",
              "      <td>1</td>\n",
              "      <td>168</td>\n",
              "      <td>0</td>\n",
              "      <td>1.0</td>\n",
              "      <td>2</td>\n",
              "      <td>2</td>\n",
              "      <td>3</td>\n",
              "      <td>0</td>\n",
              "    </tr>\n",
              "    <tr>\n",
              "      <th>1</th>\n",
              "      <td>53</td>\n",
              "      <td>1</td>\n",
              "      <td>0</td>\n",
              "      <td>140</td>\n",
              "      <td>203</td>\n",
              "      <td>1</td>\n",
              "      <td>0</td>\n",
              "      <td>155</td>\n",
              "      <td>1</td>\n",
              "      <td>3.1</td>\n",
              "      <td>0</td>\n",
              "      <td>0</td>\n",
              "      <td>3</td>\n",
              "      <td>0</td>\n",
              "    </tr>\n",
              "    <tr>\n",
              "      <th>2</th>\n",
              "      <td>70</td>\n",
              "      <td>1</td>\n",
              "      <td>0</td>\n",
              "      <td>145</td>\n",
              "      <td>174</td>\n",
              "      <td>0</td>\n",
              "      <td>1</td>\n",
              "      <td>125</td>\n",
              "      <td>1</td>\n",
              "      <td>2.6</td>\n",
              "      <td>0</td>\n",
              "      <td>0</td>\n",
              "      <td>3</td>\n",
              "      <td>0</td>\n",
              "    </tr>\n",
              "    <tr>\n",
              "      <th>3</th>\n",
              "      <td>61</td>\n",
              "      <td>1</td>\n",
              "      <td>0</td>\n",
              "      <td>148</td>\n",
              "      <td>203</td>\n",
              "      <td>0</td>\n",
              "      <td>1</td>\n",
              "      <td>161</td>\n",
              "      <td>0</td>\n",
              "      <td>0.0</td>\n",
              "      <td>2</td>\n",
              "      <td>1</td>\n",
              "      <td>3</td>\n",
              "      <td>0</td>\n",
              "    </tr>\n",
              "    <tr>\n",
              "      <th>4</th>\n",
              "      <td>62</td>\n",
              "      <td>0</td>\n",
              "      <td>0</td>\n",
              "      <td>138</td>\n",
              "      <td>294</td>\n",
              "      <td>1</td>\n",
              "      <td>1</td>\n",
              "      <td>106</td>\n",
              "      <td>0</td>\n",
              "      <td>1.9</td>\n",
              "      <td>1</td>\n",
              "      <td>3</td>\n",
              "      <td>2</td>\n",
              "      <td>0</td>\n",
              "    </tr>\n",
              "  </tbody>\n",
              "</table>\n",
              "</div>\n",
              "      <button class=\"colab-df-convert\" onclick=\"convertToInteractive('df-58dcf28d-33cf-4c1c-8bd5-f51519d80d57')\"\n",
              "              title=\"Convert this dataframe to an interactive table.\"\n",
              "              style=\"display:none;\">\n",
              "        \n",
              "  <svg xmlns=\"http://www.w3.org/2000/svg\" height=\"24px\"viewBox=\"0 0 24 24\"\n",
              "       width=\"24px\">\n",
              "    <path d=\"M0 0h24v24H0V0z\" fill=\"none\"/>\n",
              "    <path d=\"M18.56 5.44l.94 2.06.94-2.06 2.06-.94-2.06-.94-.94-2.06-.94 2.06-2.06.94zm-11 1L8.5 8.5l.94-2.06 2.06-.94-2.06-.94L8.5 2.5l-.94 2.06-2.06.94zm10 10l.94 2.06.94-2.06 2.06-.94-2.06-.94-.94-2.06-.94 2.06-2.06.94z\"/><path d=\"M17.41 7.96l-1.37-1.37c-.4-.4-.92-.59-1.43-.59-.52 0-1.04.2-1.43.59L10.3 9.45l-7.72 7.72c-.78.78-.78 2.05 0 2.83L4 21.41c.39.39.9.59 1.41.59.51 0 1.02-.2 1.41-.59l7.78-7.78 2.81-2.81c.8-.78.8-2.07 0-2.86zM5.41 20L4 18.59l7.72-7.72 1.47 1.35L5.41 20z\"/>\n",
              "  </svg>\n",
              "      </button>\n",
              "      \n",
              "  <style>\n",
              "    .colab-df-container {\n",
              "      display:flex;\n",
              "      flex-wrap:wrap;\n",
              "      gap: 12px;\n",
              "    }\n",
              "\n",
              "    .colab-df-convert {\n",
              "      background-color: #E8F0FE;\n",
              "      border: none;\n",
              "      border-radius: 50%;\n",
              "      cursor: pointer;\n",
              "      display: none;\n",
              "      fill: #1967D2;\n",
              "      height: 32px;\n",
              "      padding: 0 0 0 0;\n",
              "      width: 32px;\n",
              "    }\n",
              "\n",
              "    .colab-df-convert:hover {\n",
              "      background-color: #E2EBFA;\n",
              "      box-shadow: 0px 1px 2px rgba(60, 64, 67, 0.3), 0px 1px 3px 1px rgba(60, 64, 67, 0.15);\n",
              "      fill: #174EA6;\n",
              "    }\n",
              "\n",
              "    [theme=dark] .colab-df-convert {\n",
              "      background-color: #3B4455;\n",
              "      fill: #D2E3FC;\n",
              "    }\n",
              "\n",
              "    [theme=dark] .colab-df-convert:hover {\n",
              "      background-color: #434B5C;\n",
              "      box-shadow: 0px 1px 3px 1px rgba(0, 0, 0, 0.15);\n",
              "      filter: drop-shadow(0px 1px 2px rgba(0, 0, 0, 0.3));\n",
              "      fill: #FFFFFF;\n",
              "    }\n",
              "  </style>\n",
              "\n",
              "      <script>\n",
              "        const buttonEl =\n",
              "          document.querySelector('#df-58dcf28d-33cf-4c1c-8bd5-f51519d80d57 button.colab-df-convert');\n",
              "        buttonEl.style.display =\n",
              "          google.colab.kernel.accessAllowed ? 'block' : 'none';\n",
              "\n",
              "        async function convertToInteractive(key) {\n",
              "          const element = document.querySelector('#df-58dcf28d-33cf-4c1c-8bd5-f51519d80d57');\n",
              "          const dataTable =\n",
              "            await google.colab.kernel.invokeFunction('convertToInteractive',\n",
              "                                                     [key], {});\n",
              "          if (!dataTable) return;\n",
              "\n",
              "          const docLinkHtml = 'Like what you see? Visit the ' +\n",
              "            '<a target=\"_blank\" href=https://colab.research.google.com/notebooks/data_table.ipynb>data table notebook</a>'\n",
              "            + ' to learn more about interactive tables.';\n",
              "          element.innerHTML = '';\n",
              "          dataTable['output_type'] = 'display_data';\n",
              "          await google.colab.output.renderOutput(dataTable, element);\n",
              "          const docLink = document.createElement('div');\n",
              "          docLink.innerHTML = docLinkHtml;\n",
              "          element.appendChild(docLink);\n",
              "        }\n",
              "      </script>\n",
              "    </div>\n",
              "  </div>\n",
              "  "
            ]
          },
          "metadata": {},
          "execution_count": 12
        }
      ]
    },
    {
      "cell_type": "code",
      "source": [
        "from sklearn.model_selection import train_test_split\n",
        "from sklearn.preprocessing import StandardScaler\n",
        "\n",
        "#splitting target and predictors and normalizing them\n",
        "y = df.target\n",
        "X = df.drop('target', axis = 1)\n",
        "\n",
        "X_train, X_test, y_train, y_test = train_test_split(X, y, test_size = 0.25, random_state = 10)\n",
        "\n",
        "sc = StandardScaler()\n",
        "X_train = sc.fit_transform(X_train)\n",
        "X_test = sc.fit_transform(X_test)\n"
      ],
      "metadata": {
        "id": "RLGu9oTbAmqT"
      },
      "execution_count": null,
      "outputs": []
    },
    {
      "cell_type": "code",
      "source": [
        "from sklearn.decomposition import PCA\n",
        "\n",
        "pca = PCA()\n",
        "X_train = pca.fit_transform(X_train)\n",
        "X_test = pca.fit_transform(X_test)\n",
        "\n",
        "#now we check variance caused by each principal component\n",
        "ev = pca.explained_variance_ratio_\n",
        "print(ev)\n",
        "print(sum(ev))"
      ],
      "metadata": {
        "colab": {
          "base_uri": "https://localhost:8080/"
        },
        "id": "Pcmxp03XBTs5",
        "outputId": "345210bc-8f3e-402f-ce80-816155871dc9"
      },
      "execution_count": null,
      "outputs": [
        {
          "output_type": "stream",
          "name": "stdout",
          "text": [
            "[0.25102783 0.12077624 0.09034711 0.08421682 0.07489976 0.07273688\n",
            " 0.06999945 0.0548915  0.05315806 0.043025   0.03279201 0.02877852\n",
            " 0.02335084]\n",
            "0.9999999999999999\n"
          ]
        }
      ]
    },
    {
      "cell_type": "code",
      "source": [
        "from sklearn.linear_model import LogisticRegression\n",
        "from sklearn.metrics import accuracy_score\n",
        "\n",
        "lr = LogisticRegression()\n",
        "lr.fit(X_train, y_train)\n",
        "preds = lr.predict(X_test)\n",
        "score = accuracy_score(y_test, preds)\n",
        "print(score)\n"
      ],
      "metadata": {
        "colab": {
          "base_uri": "https://localhost:8080/"
        },
        "id": "96dGr6xeC53f",
        "outputId": "30c4fd4a-d126-4766-f13f-e89e42fc8a3c"
      },
      "execution_count": null,
      "outputs": [
        {
          "output_type": "stream",
          "name": "stdout",
          "text": [
            "0.8054474708171206\n"
          ]
        }
      ]
    },
    {
      "cell_type": "markdown",
      "source": [
        "**Random Forest Model**"
      ],
      "metadata": {
        "id": "CQ2qOLJ-RKSM"
      }
    },
    {
      "cell_type": "code",
      "source": [
        "from sklearn.ensemble import RandomForestClassifier\n",
        "\n",
        "classifier = RandomForestClassifier(n_estimators = 100, oob_score = True, random_state = 1)\n",
        "classifier.fit(X_train, y_train)\n",
        "rfc_pred = classifier.predict(X_test)\n",
        "score = accuracy_score(y_test, rfc_pred)\n",
        "print(score)"
      ],
      "metadata": {
        "colab": {
          "base_uri": "https://localhost:8080/"
        },
        "id": "IjGemJFWJfr-",
        "outputId": "80be93ba-d09e-490f-ef33-8a124d63f2e1"
      },
      "execution_count": null,
      "outputs": [
        {
          "output_type": "stream",
          "name": "stdout",
          "text": [
            "0.8443579766536965\n"
          ]
        }
      ]
    },
    {
      "cell_type": "markdown",
      "source": [
        "**Using SVM to classify**"
      ],
      "metadata": {
        "id": "xBy4RST44qp1"
      }
    },
    {
      "cell_type": "code",
      "source": [
        "from sklearn.svm import SVC\n",
        "\n",
        "classifier = SVC(kernel = 'rbf', random_state = 1)\n",
        "svc_model = classifier.fit(X_train, y_train)\n",
        "svc_pred = svc_model.predict(X_test)\n",
        "print(accuracy_score(svc_pred, y_test))\n",
        "\n"
      ],
      "metadata": {
        "id": "KgwP1DsQ0uvo",
        "colab": {
          "base_uri": "https://localhost:8080/"
        },
        "outputId": "9c410eee-43d1-434e-d7af-1cfb8b1cda19"
      },
      "execution_count": null,
      "outputs": [
        {
          "output_type": "stream",
          "name": "stdout",
          "text": [
            "0.8365758754863813\n"
          ]
        }
      ]
    },
    {
      "cell_type": "markdown",
      "source": [
        "**Accuracy Comparision**\n",
        "Accuracy of Logistic Regression without PCA: 85.2%, \n",
        "Accuracy of Logisitc Regression with PCA: 80.5%, \n",
        "Accuracy of Random Forest: 84.4%,\n",
        "Accuracy of SVM: 83.6% \n",
        "\n",
        "Here we can see that PCA actually reduced performance for our Logistic Regression model. Since our dataset has only 13 features applying PCA causes some information loss which turns out to be quite significant in our case, reducing the accuracy by 5%.\n",
        "\n",
        "When we compare Logistic Regression to other models, we can see that the accuracy of each model is almost very similar. Again this is due to the fact that our dataset has only 13 Features and 1025 Training examples which causes the models to underfit and hence bottlenecks the performance."
      ],
      "metadata": {
        "id": "YcyYI4rsby1D"
      }
    },
    {
      "cell_type": "markdown",
      "source": [
        "**Multiclass Classification using Neural Networks**"
      ],
      "metadata": {
        "id": "hNN7WkbK7GV1"
      }
    },
    {
      "cell_type": "code",
      "source": [
        "import matplotlib.pyplot as plt\n",
        "import seaborn as sns\n",
        "import numpy as np\n",
        "import pandas as pd \n",
        "from keras.models import Sequential\n",
        "from keras.layers import Dense, Dropout\n",
        "from keras.utils.np_utils import to_categorical\n",
        "from tensorflow.keras.optimizers import SGD, Adam\n",
        "import keras.backend as K\n",
        "from sklearn.metrics import classification_report\n",
        "from sklearn.model_selection import train_test_split\n",
        "from sklearn.preprocessing import StandardScaler\n",
        "\n",
        "df = pd.read_csv('FIFA19.csv')\n",
        "df.head()"
      ],
      "metadata": {
        "id": "4rPiZSUx6byw",
        "colab": {
          "base_uri": "https://localhost:8080/",
          "height": 404
        },
        "outputId": "c4c4f00a-2b56-4352-81db-d2fd71000c07"
      },
      "execution_count": 7,
      "outputs": [
        {
          "output_type": "execute_result",
          "data": {
            "text/plain": [
              "   Unnamed: 0               Name  Age Nationality  Overall  Potential  \\\n",
              "0           0           L. Messi   31   Argentina       94         94   \n",
              "1           1  Cristiano Ronaldo   33    Portugal       94         94   \n",
              "2           2          Neymar Jr   26      Brazil       92         93   \n",
              "3           3             De Gea   27       Spain       91         93   \n",
              "4           4       K. De Bruyne   27     Belgium       91         92   \n",
              "\n",
              "                  Club    Value   Wage Preferred Foot  ...  StandingTackle  \\\n",
              "0         FC Barcelona  €110.5M  €565K           Left  ...            28.0   \n",
              "1             Juventus     €77M  €405K          Right  ...            31.0   \n",
              "2  Paris Saint-Germain  €118.5M  €290K          Right  ...            24.0   \n",
              "3    Manchester United     €72M  €260K          Right  ...            21.0   \n",
              "4      Manchester City    €102M  €355K          Right  ...            58.0   \n",
              "\n",
              "   SlidingTackle  GKDiving GKHandling GKKicking  GKPositioning GKReflexes  \\\n",
              "0           26.0       6.0       11.0      15.0           14.0        8.0   \n",
              "1           23.0       7.0       11.0      15.0           14.0       11.0   \n",
              "2           33.0       9.0        9.0      15.0           15.0       11.0   \n",
              "3           13.0      90.0       85.0      87.0           88.0       94.0   \n",
              "4           51.0      15.0       13.0       5.0           10.0       13.0   \n",
              "\n",
              "  Release Clause             League           Speciality  \n",
              "0        €226.5M   LALIGA SANTANDER     Complete Forward  \n",
              "1        €127.1M        SERIE A TIM     Distance Shooter  \n",
              "2        €228.1M  LIGUE 1 CONFORAMA     Complete Forward  \n",
              "3        €138.6M     PREMIER LEAGUE           Goalkeeper  \n",
              "4        €196.4M     PREMIER LEAGUE  Complete Midfielder  \n",
              "\n",
              "[5 rows x 58 columns]"
            ],
            "text/html": [
              "\n",
              "  <div id=\"df-9b7f3a60-b593-4996-aec3-3f6856e7f683\">\n",
              "    <div class=\"colab-df-container\">\n",
              "      <div>\n",
              "<style scoped>\n",
              "    .dataframe tbody tr th:only-of-type {\n",
              "        vertical-align: middle;\n",
              "    }\n",
              "\n",
              "    .dataframe tbody tr th {\n",
              "        vertical-align: top;\n",
              "    }\n",
              "\n",
              "    .dataframe thead th {\n",
              "        text-align: right;\n",
              "    }\n",
              "</style>\n",
              "<table border=\"1\" class=\"dataframe\">\n",
              "  <thead>\n",
              "    <tr style=\"text-align: right;\">\n",
              "      <th></th>\n",
              "      <th>Unnamed: 0</th>\n",
              "      <th>Name</th>\n",
              "      <th>Age</th>\n",
              "      <th>Nationality</th>\n",
              "      <th>Overall</th>\n",
              "      <th>Potential</th>\n",
              "      <th>Club</th>\n",
              "      <th>Value</th>\n",
              "      <th>Wage</th>\n",
              "      <th>Preferred Foot</th>\n",
              "      <th>...</th>\n",
              "      <th>StandingTackle</th>\n",
              "      <th>SlidingTackle</th>\n",
              "      <th>GKDiving</th>\n",
              "      <th>GKHandling</th>\n",
              "      <th>GKKicking</th>\n",
              "      <th>GKPositioning</th>\n",
              "      <th>GKReflexes</th>\n",
              "      <th>Release Clause</th>\n",
              "      <th>League</th>\n",
              "      <th>Speciality</th>\n",
              "    </tr>\n",
              "  </thead>\n",
              "  <tbody>\n",
              "    <tr>\n",
              "      <th>0</th>\n",
              "      <td>0</td>\n",
              "      <td>L. Messi</td>\n",
              "      <td>31</td>\n",
              "      <td>Argentina</td>\n",
              "      <td>94</td>\n",
              "      <td>94</td>\n",
              "      <td>FC Barcelona</td>\n",
              "      <td>€110.5M</td>\n",
              "      <td>€565K</td>\n",
              "      <td>Left</td>\n",
              "      <td>...</td>\n",
              "      <td>28.0</td>\n",
              "      <td>26.0</td>\n",
              "      <td>6.0</td>\n",
              "      <td>11.0</td>\n",
              "      <td>15.0</td>\n",
              "      <td>14.0</td>\n",
              "      <td>8.0</td>\n",
              "      <td>€226.5M</td>\n",
              "      <td>LALIGA SANTANDER</td>\n",
              "      <td>Complete Forward</td>\n",
              "    </tr>\n",
              "    <tr>\n",
              "      <th>1</th>\n",
              "      <td>1</td>\n",
              "      <td>Cristiano Ronaldo</td>\n",
              "      <td>33</td>\n",
              "      <td>Portugal</td>\n",
              "      <td>94</td>\n",
              "      <td>94</td>\n",
              "      <td>Juventus</td>\n",
              "      <td>€77M</td>\n",
              "      <td>€405K</td>\n",
              "      <td>Right</td>\n",
              "      <td>...</td>\n",
              "      <td>31.0</td>\n",
              "      <td>23.0</td>\n",
              "      <td>7.0</td>\n",
              "      <td>11.0</td>\n",
              "      <td>15.0</td>\n",
              "      <td>14.0</td>\n",
              "      <td>11.0</td>\n",
              "      <td>€127.1M</td>\n",
              "      <td>SERIE A TIM</td>\n",
              "      <td>Distance Shooter</td>\n",
              "    </tr>\n",
              "    <tr>\n",
              "      <th>2</th>\n",
              "      <td>2</td>\n",
              "      <td>Neymar Jr</td>\n",
              "      <td>26</td>\n",
              "      <td>Brazil</td>\n",
              "      <td>92</td>\n",
              "      <td>93</td>\n",
              "      <td>Paris Saint-Germain</td>\n",
              "      <td>€118.5M</td>\n",
              "      <td>€290K</td>\n",
              "      <td>Right</td>\n",
              "      <td>...</td>\n",
              "      <td>24.0</td>\n",
              "      <td>33.0</td>\n",
              "      <td>9.0</td>\n",
              "      <td>9.0</td>\n",
              "      <td>15.0</td>\n",
              "      <td>15.0</td>\n",
              "      <td>11.0</td>\n",
              "      <td>€228.1M</td>\n",
              "      <td>LIGUE 1 CONFORAMA</td>\n",
              "      <td>Complete Forward</td>\n",
              "    </tr>\n",
              "    <tr>\n",
              "      <th>3</th>\n",
              "      <td>3</td>\n",
              "      <td>De Gea</td>\n",
              "      <td>27</td>\n",
              "      <td>Spain</td>\n",
              "      <td>91</td>\n",
              "      <td>93</td>\n",
              "      <td>Manchester United</td>\n",
              "      <td>€72M</td>\n",
              "      <td>€260K</td>\n",
              "      <td>Right</td>\n",
              "      <td>...</td>\n",
              "      <td>21.0</td>\n",
              "      <td>13.0</td>\n",
              "      <td>90.0</td>\n",
              "      <td>85.0</td>\n",
              "      <td>87.0</td>\n",
              "      <td>88.0</td>\n",
              "      <td>94.0</td>\n",
              "      <td>€138.6M</td>\n",
              "      <td>PREMIER LEAGUE</td>\n",
              "      <td>Goalkeeper</td>\n",
              "    </tr>\n",
              "    <tr>\n",
              "      <th>4</th>\n",
              "      <td>4</td>\n",
              "      <td>K. De Bruyne</td>\n",
              "      <td>27</td>\n",
              "      <td>Belgium</td>\n",
              "      <td>91</td>\n",
              "      <td>92</td>\n",
              "      <td>Manchester City</td>\n",
              "      <td>€102M</td>\n",
              "      <td>€355K</td>\n",
              "      <td>Right</td>\n",
              "      <td>...</td>\n",
              "      <td>58.0</td>\n",
              "      <td>51.0</td>\n",
              "      <td>15.0</td>\n",
              "      <td>13.0</td>\n",
              "      <td>5.0</td>\n",
              "      <td>10.0</td>\n",
              "      <td>13.0</td>\n",
              "      <td>€196.4M</td>\n",
              "      <td>PREMIER LEAGUE</td>\n",
              "      <td>Complete Midfielder</td>\n",
              "    </tr>\n",
              "  </tbody>\n",
              "</table>\n",
              "<p>5 rows × 58 columns</p>\n",
              "</div>\n",
              "      <button class=\"colab-df-convert\" onclick=\"convertToInteractive('df-9b7f3a60-b593-4996-aec3-3f6856e7f683')\"\n",
              "              title=\"Convert this dataframe to an interactive table.\"\n",
              "              style=\"display:none;\">\n",
              "        \n",
              "  <svg xmlns=\"http://www.w3.org/2000/svg\" height=\"24px\"viewBox=\"0 0 24 24\"\n",
              "       width=\"24px\">\n",
              "    <path d=\"M0 0h24v24H0V0z\" fill=\"none\"/>\n",
              "    <path d=\"M18.56 5.44l.94 2.06.94-2.06 2.06-.94-2.06-.94-.94-2.06-.94 2.06-2.06.94zm-11 1L8.5 8.5l.94-2.06 2.06-.94-2.06-.94L8.5 2.5l-.94 2.06-2.06.94zm10 10l.94 2.06.94-2.06 2.06-.94-2.06-.94-.94-2.06-.94 2.06-2.06.94z\"/><path d=\"M17.41 7.96l-1.37-1.37c-.4-.4-.92-.59-1.43-.59-.52 0-1.04.2-1.43.59L10.3 9.45l-7.72 7.72c-.78.78-.78 2.05 0 2.83L4 21.41c.39.39.9.59 1.41.59.51 0 1.02-.2 1.41-.59l7.78-7.78 2.81-2.81c.8-.78.8-2.07 0-2.86zM5.41 20L4 18.59l7.72-7.72 1.47 1.35L5.41 20z\"/>\n",
              "  </svg>\n",
              "      </button>\n",
              "      \n",
              "  <style>\n",
              "    .colab-df-container {\n",
              "      display:flex;\n",
              "      flex-wrap:wrap;\n",
              "      gap: 12px;\n",
              "    }\n",
              "\n",
              "    .colab-df-convert {\n",
              "      background-color: #E8F0FE;\n",
              "      border: none;\n",
              "      border-radius: 50%;\n",
              "      cursor: pointer;\n",
              "      display: none;\n",
              "      fill: #1967D2;\n",
              "      height: 32px;\n",
              "      padding: 0 0 0 0;\n",
              "      width: 32px;\n",
              "    }\n",
              "\n",
              "    .colab-df-convert:hover {\n",
              "      background-color: #E2EBFA;\n",
              "      box-shadow: 0px 1px 2px rgba(60, 64, 67, 0.3), 0px 1px 3px 1px rgba(60, 64, 67, 0.15);\n",
              "      fill: #174EA6;\n",
              "    }\n",
              "\n",
              "    [theme=dark] .colab-df-convert {\n",
              "      background-color: #3B4455;\n",
              "      fill: #D2E3FC;\n",
              "    }\n",
              "\n",
              "    [theme=dark] .colab-df-convert:hover {\n",
              "      background-color: #434B5C;\n",
              "      box-shadow: 0px 1px 3px 1px rgba(0, 0, 0, 0.15);\n",
              "      filter: drop-shadow(0px 1px 2px rgba(0, 0, 0, 0.3));\n",
              "      fill: #FFFFFF;\n",
              "    }\n",
              "  </style>\n",
              "\n",
              "      <script>\n",
              "        const buttonEl =\n",
              "          document.querySelector('#df-9b7f3a60-b593-4996-aec3-3f6856e7f683 button.colab-df-convert');\n",
              "        buttonEl.style.display =\n",
              "          google.colab.kernel.accessAllowed ? 'block' : 'none';\n",
              "\n",
              "        async function convertToInteractive(key) {\n",
              "          const element = document.querySelector('#df-9b7f3a60-b593-4996-aec3-3f6856e7f683');\n",
              "          const dataTable =\n",
              "            await google.colab.kernel.invokeFunction('convertToInteractive',\n",
              "                                                     [key], {});\n",
              "          if (!dataTable) return;\n",
              "\n",
              "          const docLinkHtml = 'Like what you see? Visit the ' +\n",
              "            '<a target=\"_blank\" href=https://colab.research.google.com/notebooks/data_table.ipynb>data table notebook</a>'\n",
              "            + ' to learn more about interactive tables.';\n",
              "          element.innerHTML = '';\n",
              "          dataTable['output_type'] = 'display_data';\n",
              "          await google.colab.output.renderOutput(dataTable, element);\n",
              "          const docLink = document.createElement('div');\n",
              "          docLink.innerHTML = docLinkHtml;\n",
              "          element.appendChild(docLink);\n",
              "        }\n",
              "      </script>\n",
              "    </div>\n",
              "  </div>\n",
              "  "
            ]
          },
          "metadata": {},
          "execution_count": 7
        }
      ]
    },
    {
      "cell_type": "code",
      "source": [
        "#removing missing values\n",
        "df = df[pd.notnull(df['Position'])]\n",
        "\n",
        "#checking all columns in df\n",
        "col_list = df.columns.values.tolist()\n",
        "print(col_list)\n",
        "\n",
        "#checking all values in Position column\n",
        "print(df.Position.unique())"
      ],
      "metadata": {
        "colab": {
          "base_uri": "https://localhost:8080/"
        },
        "id": "oMXA1v12Rsye",
        "outputId": "9c21ccfa-2a1f-4a22-b8e0-012432d15f8e"
      },
      "execution_count": 8,
      "outputs": [
        {
          "output_type": "stream",
          "name": "stdout",
          "text": [
            "['Unnamed: 0', 'Name', 'Age', 'Nationality', 'Overall', 'Potential', 'Club', 'Value', 'Wage', 'Preferred Foot', 'International Reputation', 'Weak Foot', 'Skill Moves', 'Work Rate', 'Position', 'Jersey Number', 'Joined', 'Loaned From', 'Contract Valid Until', 'Height', 'Weight', 'Crossing', 'Finishing', 'HeadingAccuracy', 'ShortPassing', 'Volleys', 'Dribbling', 'Curve', 'FKAccuracy', 'LongPassing', 'BallControl', 'Acceleration', 'SprintSpeed', 'Agility', 'Reactions', 'Balance', 'ShotPower', 'Jumping', 'Stamina', 'Strength', 'LongShots', 'Aggression', 'Interceptions', 'Positioning', 'Vision', 'Penalties', 'Composure', 'Marking', 'StandingTackle', 'SlidingTackle', 'GKDiving', 'GKHandling', 'GKKicking', 'GKPositioning', 'GKReflexes', 'Release Clause', 'League', 'Speciality']\n",
            "['RF' 'ST' 'LW' 'GK' 'RCM' 'LF' 'RS' 'RCB' 'LCM' 'CB' 'LDM' 'CAM' 'CDM'\n",
            " 'LS' 'LCB' 'RM' 'LAM' 'LM' 'LB' 'RDM' 'RW' 'CM' 'RB' 'RAM' 'CF' 'RWB'\n",
            " 'LWB']\n"
          ]
        }
      ]
    },
    {
      "cell_type": "code",
      "source": [
        "#getting required columns \n",
        "df = df[[\"Position\", 'Finishing', 'HeadingAccuracy', 'ShortPassing', 'Volleys', 'Dribbling',\n",
        "       'Curve', 'FKAccuracy', 'LongPassing', 'BallControl', 'Acceleration',\n",
        "       'SprintSpeed', 'Agility', 'Reactions', 'Balance', 'ShotPower',\n",
        "       'Jumping', 'Stamina', 'Strength', 'LongShots', 'Aggression',\n",
        "       'Interceptions', 'Positioning', 'Vision', 'Penalties', 'Composure',\n",
        "       'Marking', 'StandingTackle', 'SlidingTackle', 'GKDiving', 'GKHandling',\n",
        "       'GKKicking', 'GKPositioning', 'GKReflexes']]\n",
        "\n",
        "#classifying all positions into categories\n",
        "forward = [\"ST\", \"LW\", \"RW\", \"LF\", \"RF\", \"RS\",\"LS\", \"CF\"]\n",
        "midfield = [\"CM\",\"RCM\",\"LCM\", \"CDM\",\"RDM\",\"LDM\", \"CAM\", \"LAM\", \"RAM\", \"RM\", \"LM\"]\n",
        "defence = [\"CB\", \"RCB\", \"LCB\", \"LWB\", \"RWB\", \"LB\", \"RB\"]\n",
        "\n",
        "#converting into numeric categories\n",
        "df.loc[df[\"Position\"] == \"GK\", \"Position\"] = 0\n",
        "\n",
        "df.loc[df[\"Position\"].isin(defence), \"Position\"] = 1\n",
        "\n",
        "df.loc[df[\"Position\"].isin(midfield), \"Position\"] = 2\n",
        "\n",
        "df.loc[df[\"Position\"].isin(forward), \"Position\"] = 3\n",
        "\n",
        "print(df.Position)"
      ],
      "metadata": {
        "colab": {
          "base_uri": "https://localhost:8080/"
        },
        "id": "3CX5GxzuSXh2",
        "outputId": "127df052-10e0-401e-f691-da96961ef2ed"
      },
      "execution_count": 9,
      "outputs": [
        {
          "output_type": "stream",
          "name": "stdout",
          "text": [
            "0        3\n",
            "1        3\n",
            "2        3\n",
            "3        0\n",
            "4        2\n",
            "        ..\n",
            "18142    2\n",
            "18143    3\n",
            "18144    3\n",
            "18145    3\n",
            "18146    2\n",
            "Name: Position, Length: 18147, dtype: object\n"
          ]
        },
        {
          "output_type": "stream",
          "name": "stderr",
          "text": [
            "/usr/local/lib/python3.7/dist-packages/pandas/core/indexing.py:1817: SettingWithCopyWarning: \n",
            "A value is trying to be set on a copy of a slice from a DataFrame.\n",
            "Try using .loc[row_indexer,col_indexer] = value instead\n",
            "\n",
            "See the caveats in the documentation: https://pandas.pydata.org/pandas-docs/stable/user_guide/indexing.html#returning-a-view-versus-a-copy\n",
            "  self._setitem_single_column(loc, value, pi)\n"
          ]
        }
      ]
    },
    {
      "cell_type": "code",
      "source": [
        "#splitting target and predictor \n",
        "y = df['Position']\n",
        "X = df.drop('Position', axis = 1)\n",
        "\n",
        "sc = StandardScaler()\n",
        "X = pd.DataFrame(sc.fit_transform(X))\n",
        "y_new = to_categorical(y)\n",
        "\n",
        "#using train test split\n",
        "X_train, X_test, y_train, y_test = train_test_split(X, y_new, test_size = 0.25)"
      ],
      "metadata": {
        "id": "rQBQY8RRUtU1"
      },
      "execution_count": 25,
      "outputs": []
    },
    {
      "cell_type": "code",
      "source": [
        "np.unique(y_test)"
      ],
      "metadata": {
        "colab": {
          "base_uri": "https://localhost:8080/"
        },
        "id": "TcYU95YJbAQL",
        "outputId": "be9c55c2-ad42-449f-ebf8-0a624f142beb"
      },
      "execution_count": 26,
      "outputs": [
        {
          "output_type": "execute_result",
          "data": {
            "text/plain": [
              "array([0., 1.], dtype=float32)"
            ]
          },
          "metadata": {},
          "execution_count": 26
        }
      ]
    },
    {
      "cell_type": "code",
      "source": [
        "#building the network\n",
        "model = Sequential()\n",
        "model.add(Dense(60, input_shape = (33,), activation = \"relu\"))\n",
        "model.add(Dense(15, activation = \"relu\"))\n",
        "model.add(Dense(4, activation = \"softmax\"))\n",
        "model.compile(Adam(lr = 0.01), \"categorical_crossentropy\", metrics = [\"accuracy\"])\n",
        "model.summary()"
      ],
      "metadata": {
        "colab": {
          "base_uri": "https://localhost:8080/"
        },
        "id": "Kqb66shdYoA0",
        "outputId": "7485f853-fa4d-4984-eddb-6d9e3371e11a"
      },
      "execution_count": 27,
      "outputs": [
        {
          "output_type": "stream",
          "name": "stdout",
          "text": [
            "Model: \"sequential_3\"\n",
            "_________________________________________________________________\n",
            " Layer (type)                Output Shape              Param #   \n",
            "=================================================================\n",
            " dense_9 (Dense)             (None, 60)                2040      \n",
            "                                                                 \n",
            " dense_10 (Dense)            (None, 15)                915       \n",
            "                                                                 \n",
            " dense_11 (Dense)            (None, 4)                 64        \n",
            "                                                                 \n",
            "=================================================================\n",
            "Total params: 3,019\n",
            "Trainable params: 3,019\n",
            "Non-trainable params: 0\n",
            "_________________________________________________________________\n"
          ]
        },
        {
          "output_type": "stream",
          "name": "stderr",
          "text": [
            "/usr/local/lib/python3.7/dist-packages/keras/optimizer_v2/adam.py:105: UserWarning: The `lr` argument is deprecated, use `learning_rate` instead.\n",
            "  super(Adam, self).__init__(name, **kwargs)\n"
          ]
        }
      ]
    },
    {
      "cell_type": "code",
      "source": [
        "#fitting model\n",
        "model.fit(X_train, y_train, verbose = 1, epochs = 20)"
      ],
      "metadata": {
        "colab": {
          "base_uri": "https://localhost:8080/"
        },
        "id": "BqmELbawbmvU",
        "outputId": "09eb0fcd-de90-4d83-eef5-57f5ddac40b4"
      },
      "execution_count": 28,
      "outputs": [
        {
          "output_type": "stream",
          "name": "stdout",
          "text": [
            "Epoch 1/20\n",
            "426/426 [==============================] - 2s 3ms/step - loss: 0.3578 - accuracy: 0.8510\n",
            "Epoch 2/20\n",
            "426/426 [==============================] - 1s 3ms/step - loss: 0.3135 - accuracy: 0.8689\n",
            "Epoch 3/20\n",
            "426/426 [==============================] - 1s 3ms/step - loss: 0.3025 - accuracy: 0.8749\n",
            "Epoch 4/20\n",
            "426/426 [==============================] - 1s 2ms/step - loss: 0.2997 - accuracy: 0.8738\n",
            "Epoch 5/20\n",
            "426/426 [==============================] - 1s 2ms/step - loss: 0.2989 - accuracy: 0.8785\n",
            "Epoch 6/20\n",
            "426/426 [==============================] - 1s 2ms/step - loss: 0.2964 - accuracy: 0.8763\n",
            "Epoch 7/20\n",
            "426/426 [==============================] - 1s 2ms/step - loss: 0.2893 - accuracy: 0.8813\n",
            "Epoch 8/20\n",
            "426/426 [==============================] - 1s 2ms/step - loss: 0.2855 - accuracy: 0.8851\n",
            "Epoch 9/20\n",
            "426/426 [==============================] - 1s 2ms/step - loss: 0.2822 - accuracy: 0.8860\n",
            "Epoch 10/20\n",
            "426/426 [==============================] - 2s 4ms/step - loss: 0.2836 - accuracy: 0.8825\n",
            "Epoch 11/20\n",
            "426/426 [==============================] - 1s 2ms/step - loss: 0.2776 - accuracy: 0.8846\n",
            "Epoch 12/20\n",
            "426/426 [==============================] - 1s 2ms/step - loss: 0.2768 - accuracy: 0.8852\n",
            "Epoch 13/20\n",
            "426/426 [==============================] - 1s 2ms/step - loss: 0.2775 - accuracy: 0.8851\n",
            "Epoch 14/20\n",
            "426/426 [==============================] - 1s 2ms/step - loss: 0.2689 - accuracy: 0.8885\n",
            "Epoch 15/20\n",
            "426/426 [==============================] - 1s 2ms/step - loss: 0.2665 - accuracy: 0.8913\n",
            "Epoch 16/20\n",
            "426/426 [==============================] - 1s 2ms/step - loss: 0.2866 - accuracy: 0.8836\n",
            "Epoch 17/20\n",
            "426/426 [==============================] - 1s 2ms/step - loss: 0.2881 - accuracy: 0.8810\n",
            "Epoch 18/20\n",
            "426/426 [==============================] - 1s 2ms/step - loss: 0.2662 - accuracy: 0.8886\n",
            "Epoch 19/20\n",
            "426/426 [==============================] - 1s 2ms/step - loss: 0.2583 - accuracy: 0.8929\n",
            "Epoch 20/20\n",
            "426/426 [==============================] - 2s 4ms/step - loss: 0.2593 - accuracy: 0.8927\n"
          ]
        },
        {
          "output_type": "execute_result",
          "data": {
            "text/plain": [
              "<keras.callbacks.History at 0x7f9887ea05d0>"
            ]
          },
          "metadata": {},
          "execution_count": 28
        }
      ]
    },
    {
      "cell_type": "code",
      "source": [
        "#testing model\n",
        "from sklearn.metrics import accuracy_score\n",
        "\n",
        "y_pred = model.predict(X_test)\n",
        "y_pred = np.argmax(y_pred, axis=1)\n",
        "y_test = np.argmax(y_test, axis=1)\n",
        "\n",
        "print(accuracy_score(y_pred, y_test))"
      ],
      "metadata": {
        "colab": {
          "base_uri": "https://localhost:8080/"
        },
        "id": "_9UnOS22Zf5I",
        "outputId": "79604678-9f2e-4951-e5dd-3f68e330f8f9"
      },
      "execution_count": 32,
      "outputs": [
        {
          "output_type": "stream",
          "name": "stdout",
          "text": [
            "0.8800969803835134\n"
          ]
        }
      ]
    },
    {
      "cell_type": "markdown",
      "source": [
        "Hence, our neural network model has an accuracy of 88 percent."
      ],
      "metadata": {
        "id": "8HXmbivVfcE8"
      }
    },
    {
      "cell_type": "code",
      "source": [
        ""
      ],
      "metadata": {
        "id": "-wTlHxyTdbnD"
      },
      "execution_count": null,
      "outputs": []
    }
  ]
}